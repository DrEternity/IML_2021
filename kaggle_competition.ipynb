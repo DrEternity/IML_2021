{
  "nbformat": 4,
  "nbformat_minor": 0,
  "metadata": {
    "colab": {
      "name": "отчёт_Роман_Дьяченко_201.ipynb",
      "provenance": [],
      "collapsed_sections": []
    },
    "kernelspec": {
      "name": "python3",
      "display_name": "Python 3"
    },
    "language_info": {
      "name": "python"
    }
  },
  "cells": [
    {
      "cell_type": "markdown",
      "metadata": {
        "id": "eT2yjbifoeda"
      },
      "source": [
        "# **Title:**\n",
        "Отчёт по соревнованию: [**cmc2021**](https://www.kaggle.com/c/mmp2021 \"Необязательная подсказка\")  \n",
        "Задача на предсказание химических свойств  \n",
        "30.11.21   \n",
        "Студент 201 группы ВМК МГУ  \n",
        "Роман Дьяченко  "
      ]
    },
    {
      "cell_type": "markdown",
      "metadata": {
        "id": "gy4DPYmepeNE"
      },
      "source": [
        "## **Abstract:**\n",
        "Было произведено моделирование ленты, с учётом сдвигов и перемешиваний.  \n",
        "На этих данных был обучен стэкинг из пяти моделей."
      ]
    },
    {
      "cell_type": "markdown",
      "metadata": {
        "id": "fx0oDPzorkOe"
      },
      "source": [
        "# Исходные Данные:  \n",
        "  Каждый **объект** обучающий выборки представляет из себя последовательность операций проводимых над рудой на ленте.  \n",
        "  **Целевая переменная** - химическое свойство руды оставшейся на ленте после проведения операций.\n",
        "  Типы операций:  \n",
        "  * Сдвиг ленты на $I$ ячеек. Допустимые значения: $I: {1, 2, 3, 4, 5, 6}$  \n",
        "  * Добавление руды определённого типа $J$ на одну из ячеек ленты с номером $T$. Допустимые значения:    $T: {0,..., 100}$,   $J: {0, 1, 2, 3}$     \n",
        "  * Глобальное перемешивание руды на ленте c интенсивностью $V$. Допустимые значения: $V: [0, 3]$   \n",
        "  * Локальное перемешивание руды с интенсивность $V$ в ячкейке $T$. Допустимые значения: $V: [0, 3]$,    $T: {0,..., 100}$  \n",
        "\n",
        "Количество операций каждого типа проводимых над лентой не постоянно.  \n",
        "Суммарное число операций всех типов в одном объекте равно $100$"
      ]
    },
    {
      "cell_type": "markdown",
      "metadata": {
        "id": "dUzIVoXqqmaa"
      },
      "source": [
        "## **Предобработка данных:**"
      ]
    },
    {
      "cell_type": "markdown",
      "metadata": {
        "id": "yr4-nJ8zq9qR"
      },
      "source": [
        "## Допущения при работе с данными:\n",
        "* Разные типы руды **располагаются** равномерно в каждой из ячеек\n",
        "* Перед проведением операций лента пуста"
      ]
    },
    {
      "cell_type": "markdown",
      "metadata": {
        "id": "xVg-k7i4wtuO"
      },
      "source": [
        "## Глобальное перемешивание камней на ленте:\n",
        "* Пусть в ячейке с номером $i$ находится $x_{i} ^ {0}$ камней типа $0$.   \n",
        "* Среднее значение числа камней типа $0$ во всех ячейках равно $E_{0}$.  \n",
        "Тогда после глобального перемешивания в ячейке с номером $i$  будет $x_{i} + intensive$ $*$ ($E_{0}$ - $x_{i} ^ {0}$).\n",
        "\n",
        "* Значение $intensive$ определяется как $intensive = ( \\frac{V}{3}  - 0.1)^3$, где $V$ - интенсивность из условия задачи, находящаяся в диапозоне $[0, 3]$\n",
        "\n",
        "Формула для подсчёта $intensive$ была получена при варьировании параметра смещения $0.1$ и степени $3$ с использовании линейной регрессии"
      ]
    },
    {
      "cell_type": "markdown",
      "metadata": {
        "id": "MGhYOV4O2AoC"
      },
      "source": [
        "## Конечное признаковое описание:\n",
        "В результате предобработки данных полученое признаковое описание каждого объекта состоящее из 812 признаков.   \n",
        "Первые $404$ признака - описание количества руды каждого типа в каждой ячейке без учёта глобального перемешивания.\n",
        "Следующие $404$ признака - описание количества руды каждого типа в каждой ячейке с учётом глобального перемешивания.\n",
        "Оставшиеся $4$ признака - суммарное количество камней каждого типа на ленте после проведения всех операций\n",
        "\n",
        "Код трансформирующий исходные запросы в конечную конфигурацию ленты представлен функцией **transform_data**"
      ]
    },
    {
      "cell_type": "code",
      "metadata": {
        "id": "At7YwSMD3r6A"
      },
      "source": [
        "import pandas as pd\n",
        "import numpy as np\n",
        "from sklearn import linear_model\n",
        "from sklearn.neural_network import MLPRegressor\n",
        "from sklearn.ensemble import StackingRegressor"
      ],
      "execution_count": 1,
      "outputs": []
    },
    {
      "cell_type": "code",
      "metadata": {
        "id": "Q2OJU7QZ5e_t"
      },
      "source": [
        "df = pd.read_csv('xxx_train.csv')"
      ],
      "execution_count": 11,
      "outputs": []
    },
    {
      "cell_type": "code",
      "metadata": {
        "id": "tp8uNAC24uvW"
      },
      "source": [
        "def transform_data(X):\n",
        "    conclusion = []\n",
        "    proc = np.array([0.1, 0.2, 0.3, 0.4, 0.5, 0.6, 0.7, 0.8, 0.9]) * X.shape[0]\n",
        "    for i in range(X.shape[0]):\n",
        "        if i in proc:\n",
        "            print(f\"Обработано {i} объектов выборки\")\n",
        "        cells = [{0:0, 1:0, 2:0, 3:0} for i in range(101)]\n",
        "        cells_2 = [{0:0, 1:0, 2:0, 3:0} for i in range(101)]\n",
        "\n",
        "        for j in range(0, X.shape[1], 3):\n",
        "            if X.iloc[i, j] == 0:\n",
        "                step = int(X.iloc[i, j + 1])\n",
        "                cells[step:] = cells[:-step]\n",
        "                cells[:step] = [{0:0, 1:0, 2:0, 3:0} for i in range(step)]\n",
        "                cells_2[step:] = cells_2[:-step]\n",
        "                cells_2[:step] = [{0:0, 1:0, 2:0, 3:0} for i in range(step)]\n",
        "            if X.iloc[i, j] == 2:\n",
        "                intensive =  (X.iloc[i, j + 2] / 3 - 0.1) ** 3\n",
        "                count_0 = 0\n",
        "                count_1 = 0\n",
        "                count_2 = 0\n",
        "                count_3 = 0\n",
        "                for cells_k in cells:\n",
        "                    count_0 += cells_k[0]\n",
        "                    count_1 += cells_k[1]\n",
        "                    count_2 += cells_k[2]\n",
        "                    count_3 += cells_k[3]\n",
        "                mean_valtype_0 = count_0 / 101\n",
        "                mean_valtype_1 = count_1 / 101\n",
        "                mean_valtype_2 = count_2 / 101\n",
        "                mean_valtype_3 = count_3 / 101\n",
        "                for cells_k in cells:\n",
        "                    cells_k[0] += intensive * (mean_valtype_0 - cells_k[0])\n",
        "                    cells_k[1] += intensive * (mean_valtype_1 - cells_k[1])\n",
        "                    cells_k[2] += intensive * (mean_valtype_2 - cells_k[2])\n",
        "                    cells_k[3] += intensive * (mean_valtype_3 - cells_k[3])\n",
        "            if X.iloc[i, j] == 1:\n",
        "                cells[int(X.iloc[i, j + 1])][int(X.iloc[i, j + 2])] += 1\n",
        "                cells_2[int(X.iloc[i, j + 1])][int(X.iloc[i, j + 2])] += 1\n",
        "        result = []\n",
        "        result_0 = []\n",
        "        result_1 = []\n",
        "        result_2 = []\n",
        "        result_3 = []\n",
        "        for j in range(101):\n",
        "            result_0.append(cells_2[j][0])\n",
        "            result_1.append(cells_2[j][1])\n",
        "            result_2.append(cells_2[j][2])\n",
        "            result_3.append(cells_2[j][3])\n",
        "            dictar = cells[j]\n",
        "            result.append(dictar[0])\n",
        "            result.append(dictar[1])\n",
        "            result.append(dictar[2])\n",
        "            result.append(dictar[3])\n",
        "        sums = [sum(result_0), sum(result_1), sum(result_2), sum(result_3)]\n",
        "        result = np.array(result_0 +  result_1 + result_2 + result_3 + result + sums)\n",
        "        conclusion.append(result)\n",
        "    return pd.DataFrame(conclusion)"
      ],
      "execution_count": 12,
      "outputs": []
    },
    {
      "cell_type": "code",
      "metadata": {
        "id": "QcO-fyBE5gWg",
        "colab": {
          "base_uri": "https://localhost:8080/"
        },
        "outputId": "c770de8f-8b6f-4f0d-a947-d505878b839b"
      },
      "source": [
        "X_train = transform_data(df.iloc[:, :-1])\n",
        "y_train = df.iloc[:, -1]"
      ],
      "execution_count": 13,
      "outputs": [
        {
          "output_type": "stream",
          "name": "stdout",
          "text": [
            "Обработано 1000 объектов выборки\n",
            "Обработано 2000 объектов выборки\n",
            "Обработано 3000 объектов выборки\n",
            "Обработано 4000 объектов выборки\n",
            "Обработано 5000 объектов выборки\n",
            "Обработано 6000 объектов выборки\n",
            "Обработано 7000 объектов выборки\n",
            "Обработано 8000 объектов выборки\n",
            "Обработано 9000 объектов выборки\n"
          ]
        }
      ]
    },
    {
      "cell_type": "markdown",
      "metadata": {
        "id": "IXJ7kWdx36dg"
      },
      "source": [
        "# **Обучение модели**"
      ]
    },
    {
      "cell_type": "code",
      "metadata": {
        "id": "IJZVf5Nc3sDW"
      },
      "source": [
        "estimators = [\n",
        "    ('lars', linear_model.Lars(n_nonzero_coefs=200, normalize=False)),\n",
        "    ('ort', linear_model.OrthogonalMatchingPursuit(normalize=False, n_nonzero_coefs = 70)),\n",
        "    ('ard', linear_model.ARDRegression()),\n",
        "    ('hub', linear_model.HuberRegressor(epsilon = 1.1)),\n",
        "    ('neur', MLPRegressor(hidden_layer_sizes = (1624,), activation = 'tanh', solver = 'adam', tol = 0.5,  random_state=1444, max_iter = 12, verbose = True)),\n",
        "]\n",
        "reg = StackingRegressor(\n",
        "    estimators=estimators,\n",
        "    cv = 5,\n",
        "    final_estimator= linear_model.LinearRegression(fit_intercept= True)\n",
        ")"
      ],
      "execution_count": 14,
      "outputs": []
    },
    {
      "cell_type": "code",
      "metadata": {
        "id": "76HiLW5A-iFi"
      },
      "source": [
        "reg.fit(X_train, y_train)"
      ],
      "execution_count": null,
      "outputs": []
    },
    {
      "cell_type": "markdown",
      "metadata": {
        "id": "utPcEWX8CMrQ"
      },
      "source": [
        "# **Полученный Score:**\n",
        "Результат модели на датасете с 100000 объектами (Mean Absolute Error):\n",
        "* **Public** Leaderboard (5% of the test data): $1.31720$ **(3rd place)**\n",
        "* **Private** Leaderboard (95% of the test data): $1.29414$ **(4th place)**\n"
      ]
    },
    {
      "cell_type": "markdown",
      "metadata": {
        "id": "GneEkBfZ-uLq"
      },
      "source": [
        "# **Вывод**\n",
        "  Сложно сказать об успешности построенной модели, когда не до конца понимаешь, что ты предсказывал)))  \n",
        "  Это соревнование научило меня:  \n",
        "  * работать с основными библиотеками для анализа данных  \n",
        "  * строить графики (хотя в отчёте не захотелось ничего отражать) \n",
        "  * последовательно тестировать гипотезы о законе природы и данных (в отчёт попали самые успешные)   \n",
        "Ещё я:    \n",
        "  * узнал много о разных моделях ML и об их коомбинировании  \n",
        "  * нашёл много интересные статей, курсов и ресурсов по ML, которыми в дальнейшем буду пользоваться\n",
        "  * вступил в ODS)\n"
      ]
    }
  ]
}